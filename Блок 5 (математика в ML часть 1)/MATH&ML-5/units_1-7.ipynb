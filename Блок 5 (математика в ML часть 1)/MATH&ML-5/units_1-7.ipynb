{
 "cells": [
  {
   "cell_type": "markdown",
   "metadata": {},
   "source": [
    "# Юнит 1"
   ]
  },
  {
   "cell_type": "code",
   "execution_count": 12,
   "metadata": {},
   "outputs": [],
   "source": [
    "from sympy import diff, Symbol, solveset, Eq\n",
    "x = Symbol(\"x\")"
   ]
  },
  {
   "cell_type": "markdown",
   "metadata": {},
   "source": [
    "## Задание 1.1"
   ]
  },
  {
   "cell_type": "code",
   "execution_count": 3,
   "metadata": {},
   "outputs": [
    {
     "data": {
      "text/latex": [
       "$\\displaystyle 3 x^{2} + 4$"
      ],
      "text/plain": [
       "3*x**2 + 4"
      ]
     },
     "execution_count": 3,
     "metadata": {},
     "output_type": "execute_result"
    }
   ],
   "source": [
    "f = x**3 + 4*x - 5\n",
    "f.diff(x)"
   ]
  },
  {
   "cell_type": "markdown",
   "metadata": {},
   "source": [
    "## Задание 1.2"
   ]
  },
  {
   "cell_type": "code",
   "execution_count": 5,
   "metadata": {},
   "outputs": [
    {
     "data": {
      "text/latex": [
       "$\\displaystyle 6 x$"
      ],
      "text/plain": [
       "6*x"
      ]
     },
     "execution_count": 5,
     "metadata": {},
     "output_type": "execute_result"
    }
   ],
   "source": [
    "f.diff(x,2)"
   ]
  },
  {
   "cell_type": "markdown",
   "metadata": {},
   "source": [
    "## Задание 1.3"
   ]
  },
  {
   "cell_type": "code",
   "execution_count": 7,
   "metadata": {},
   "outputs": [
    {
     "data": {
      "text/latex": [
       "$\\displaystyle 2 x - 5$"
      ],
      "text/plain": [
       "2*x - 5"
      ]
     },
     "execution_count": 7,
     "metadata": {},
     "output_type": "execute_result"
    }
   ],
   "source": [
    "f = x**2 - 5*x + 4\n",
    "f.diff(x)"
   ]
  },
  {
   "cell_type": "markdown",
   "metadata": {},
   "source": [
    "## Задание 1.4"
   ]
  },
  {
   "cell_type": "code",
   "execution_count": 15,
   "metadata": {},
   "outputs": [
    {
     "data": {
      "text/latex": [
       "$\\displaystyle 3 x^{2} - 12 x$"
      ],
      "text/plain": [
       "3*x**2 - 12*x"
      ]
     },
     "execution_count": 15,
     "metadata": {},
     "output_type": "execute_result"
    }
   ],
   "source": [
    "f = x**3 - 6*x**2 + 2\n",
    "df_dx = f.diff(x)\n",
    "df_dx"
   ]
  },
  {
   "cell_type": "code",
   "execution_count": 16,
   "metadata": {},
   "outputs": [
    {
     "data": {
      "text/latex": [
       "$\\displaystyle \\left\\{0, 4\\right\\}$"
      ],
      "text/plain": [
       "{0, 4}"
      ]
     },
     "execution_count": 16,
     "metadata": {},
     "output_type": "execute_result"
    }
   ],
   "source": [
    "solveset(Eq(df_dx, 0), x)"
   ]
  },
  {
   "cell_type": "markdown",
   "metadata": {},
   "source": [
    "## Задание 1.7"
   ]
  },
  {
   "cell_type": "code",
   "execution_count": 27,
   "metadata": {},
   "outputs": [
    {
     "data": {
      "text/plain": [
       "0.5500000000000004"
      ]
     },
     "metadata": {},
     "output_type": "display_data"
    }
   ],
   "source": [
    "L = (6 - 6.4)**2 + (7 - 7.1)**2 + (6 - 5.9)**2 + (4 - 4.2)**2 + (5 - 5.2)**2 + (6 - 6.2)**2 + (8 - 7.5)**2\n",
    "display(L)"
   ]
  },
  {
   "cell_type": "markdown",
   "metadata": {},
   "source": [
    "## Задание 1.9"
   ]
  },
  {
   "cell_type": "code",
   "execution_count": 25,
   "metadata": {},
   "outputs": [
    {
     "data": {
      "text/plain": [
       "0.9820137900379085"
      ]
     },
     "metadata": {},
     "output_type": "display_data"
    }
   ],
   "source": [
    "from math import exp as exp\n",
    "\n",
    "x1 = 1\n",
    "x2 = 1\n",
    "x3 = 0\n",
    "y = 1/(1 + exp(-2*(x1+x2+x3)))\n",
    "\n",
    "display(y)"
   ]
  },
  {
   "cell_type": "code",
   "execution_count": 26,
   "metadata": {},
   "outputs": [
    {
     "data": {
      "text/plain": [
       "0.8807970779778823"
      ]
     },
     "metadata": {},
     "output_type": "display_data"
    }
   ],
   "source": [
    "x1 = 0.1\n",
    "x2 = 0.3\n",
    "x3 = 0.6\n",
    "y = 1/(1 + exp(-2*(x1+x2+x3)))\n",
    "\n",
    "display(y)"
   ]
  },
  {
   "cell_type": "markdown",
   "metadata": {},
   "source": [
    "## Задание 1.10"
   ]
  },
  {
   "cell_type": "code",
   "execution_count": 23,
   "metadata": {},
   "outputs": [
    {
     "name": "stdout",
     "output_type": "stream",
     "text": [
      "4.83\n"
     ]
    }
   ],
   "source": [
    "#1.1**2 + 0.1**2 + 0.9**2\n",
    "L = 0.01 + 1.21 + 3.61\n",
    "print(L)"
   ]
  },
  {
   "cell_type": "markdown",
   "metadata": {},
   "source": [
    "# Юнит 3"
   ]
  },
  {
   "cell_type": "markdown",
   "metadata": {},
   "source": [
    "# Задание 3.1"
   ]
  },
  {
   "cell_type": "code",
   "execution_count": 29,
   "metadata": {},
   "outputs": [
    {
     "data": {
      "text/latex": [
       "$\\displaystyle - 6 x^{2} - 6 x + 12$"
      ],
      "text/plain": [
       "-6*x**2 - 6*x + 12"
      ]
     },
     "execution_count": 29,
     "metadata": {},
     "output_type": "execute_result"
    }
   ],
   "source": [
    "from sympy import diff, Symbol, solveset, Eq\n",
    "x = Symbol(\"x\")\n",
    "f = -2*x**3 -3*x**2 + 12*x -4\n",
    "df_dx = f.diff()\n",
    "df_dx"
   ]
  },
  {
   "cell_type": "code",
   "execution_count": 30,
   "metadata": {},
   "outputs": [
    {
     "data": {
      "text/latex": [
       "$\\displaystyle \\left\\{-2, 1\\right\\}$"
      ],
      "text/plain": [
       "{-2, 1}"
      ]
     },
     "execution_count": 30,
     "metadata": {},
     "output_type": "execute_result"
    }
   ],
   "source": [
    "solveset(Eq(df_dx,0),x)"
   ]
  },
  {
   "cell_type": "markdown",
   "metadata": {},
   "source": [
    "# Задание 3.4"
   ]
  },
  {
   "cell_type": "code",
   "execution_count": 31,
   "metadata": {},
   "outputs": [
    {
     "data": {
      "text/latex": [
       "$\\displaystyle 8 x - 6 y - 34$"
      ],
      "text/plain": [
       "8*x - 6*y - 34"
      ]
     },
     "execution_count": 31,
     "metadata": {},
     "output_type": "execute_result"
    }
   ],
   "source": [
    "from sympy import *\n",
    "x,y = symbols(\"x, y\")\n",
    "z = 4*x**2 - 6*x*y - 34*x + 5*y**2 + 42*y + 7\n",
    "dz_dx = z.diff(x)\n",
    "dz_dx"
   ]
  },
  {
   "cell_type": "code",
   "execution_count": 32,
   "metadata": {},
   "outputs": [
    {
     "data": {
      "text/latex": [
       "$\\displaystyle - 6 x + 10 y + 42$"
      ],
      "text/plain": [
       "-6*x + 10*y + 42"
      ]
     },
     "execution_count": 32,
     "metadata": {},
     "output_type": "execute_result"
    }
   ],
   "source": [
    "dz_dy = z.diff(y)\n",
    "dz_dy"
   ]
  },
  {
   "cell_type": "code",
   "execution_count": 33,
   "metadata": {},
   "outputs": [
    {
     "data": {
      "text/plain": [
       "{x: 2, y: -3}"
      ]
     },
     "execution_count": 33,
     "metadata": {},
     "output_type": "execute_result"
    }
   ],
   "source": [
    "solve([dz_dx, dz_dy], [x, y])"
   ]
  },
  {
   "cell_type": "markdown",
   "metadata": {},
   "source": [
    "# Задание 3.5"
   ]
  },
  {
   "cell_type": "code",
   "execution_count": 44,
   "metadata": {},
   "outputs": [
    {
     "data": {
      "text/latex": [
       "$\\displaystyle 6 x$"
      ],
      "text/plain": [
       "6*x"
      ]
     },
     "metadata": {},
     "output_type": "display_data"
    },
    {
     "data": {
      "text/latex": [
       "$\\displaystyle -2$"
      ],
      "text/plain": [
       "-2"
      ]
     },
     "metadata": {},
     "output_type": "display_data"
    },
    {
     "data": {
      "text/latex": [
       "$\\displaystyle -2$"
      ],
      "text/plain": [
       "-2"
      ]
     },
     "metadata": {},
     "output_type": "display_data"
    },
    {
     "data": {
      "text/latex": [
       "$\\displaystyle - 30 y^{4}$"
      ],
      "text/plain": [
       "-30*y**4"
      ]
     },
     "metadata": {},
     "output_type": "display_data"
    }
   ],
   "source": [
    "from sympy import *\n",
    "x,y = symbols(\"x, y\")\n",
    "f = x**3 -2*x*y - y**6\n",
    "\n",
    "display(f.diff(x, 2))\n",
    "display(f.diff(x).diff(y))\n",
    "display(f.diff(y).diff(x))\n",
    "display(f.diff(y, 2))"
   ]
  },
  {
   "cell_type": "code",
   "execution_count": null,
   "metadata": {},
   "outputs": [],
   "source": [
    "6 -2\n",
    "-2 -480"
   ]
  },
  {
   "cell_type": "markdown",
   "metadata": {},
   "source": [
    "# Задание 3.9"
   ]
  },
  {
   "cell_type": "code",
   "execution_count": 1,
   "metadata": {},
   "outputs": [
    {
     "data": {
      "text/plain": [
       "[{x: 0, y: 0},\n",
       " {x: 1, y: 1},\n",
       " {x: (-1/2 - sqrt(3)*I/2)**2, y: -1/2 - sqrt(3)*I/2},\n",
       " {x: (-1/2 + sqrt(3)*I/2)**2, y: -1/2 + sqrt(3)*I/2}]"
      ]
     },
     "execution_count": 1,
     "metadata": {},
     "output_type": "execute_result"
    }
   ],
   "source": [
    "from sympy import *\n",
    "x,y = symbols(\"x, y\")\n",
    "z = x**3 + y**3 - 3*x*y\n",
    "dz_dx = z.diff(x)\n",
    "dz_dy = z.diff(y)\n",
    "solve([dz_dx, dz_dy], [x, y])"
   ]
  },
  {
   "cell_type": "markdown",
   "metadata": {},
   "source": [
    "# Юнит 4"
   ]
  },
  {
   "cell_type": "markdown",
   "metadata": {},
   "source": [
    "# Задание 4.5"
   ]
  },
  {
   "cell_type": "code",
   "execution_count": 46,
   "metadata": {},
   "outputs": [],
   "source": [
    "import numpy as np\n",
    " \n",
    "def func_rosen(x):\n",
    "    r = np.sum(100*(x[1:]-x[:-1]**2)**2 + (1-x[:-1])**2, axis=0)\n",
    "    return r"
   ]
  },
  {
   "cell_type": "code",
   "execution_count": 50,
   "metadata": {},
   "outputs": [
    {
     "name": "stdout",
     "output_type": "stream",
     "text": [
      "[0.93865173 0.88210868 0.776457   0.60278764 0.36076161]\n"
     ]
    }
   ],
   "source": [
    "from scipy.optimize import least_squares\n",
    "x1 = np.array([2.4, 1.5, 2.1, 0.7, 1.1])\n",
    "result_point = least_squares(func_rosen, x1)\n",
    "print(result_point.x)"
   ]
  },
  {
   "cell_type": "markdown",
   "metadata": {},
   "source": [
    "# Юнит 5"
   ]
  },
  {
   "cell_type": "markdown",
   "metadata": {},
   "source": [
    "## Задание 5.3"
   ]
  },
  {
   "cell_type": "code",
   "execution_count": 55,
   "metadata": {},
   "outputs": [
    {
     "name": "stdout",
     "output_type": "stream",
     "text": [
      "Целевая функция для аргументов a и b :\n",
      " f =  (1 - b)**2 + (2 - a)**2\n",
      "Функция ограничений:  a + b - 1 = 0\n",
      "Функция Лагранжа :\n",
      "  w*(a + b - 1) + (1 - b)**2 + (2 - a)**2\n",
      "df/da = 2*a + w - 4 = 0\n",
      "df/db = 2*b + w - 2 = 0\n",
      "df/dw = a + b - 1 = 0\n",
      "Стационарная точка M(x,y):\n",
      " 1.0 , 0.0\n"
     ]
    }
   ],
   "source": [
    "from sympy import *\n",
    "a,b,w=symbols(' a b w' )\n",
    "g = (2-a)**2 + (1-b)**2\n",
    "print('Целевая функция для аргументов a и b :\\n f = ', g)\n",
    "q = a + b - 1\n",
    "print('Функция ограничений: ', q,'= 0')\n",
    "f = (2-a)**2 + (1-b)**2 + w*(a + b - 1)\n",
    "print('Функция Лагранжа :\\n ',f)\n",
    "fa = f.diff(a)\n",
    "print('df/da =',fa,'= 0')\n",
    "fb = f.diff(b)\n",
    "print('df/db =',fb,'= 0')\n",
    "fw = f.diff(w)\n",
    "print('df/dw =',fw,'= 0')\n",
    "sols = solve([fa,fb,fw],a,b,w)\n",
    "print('Стационарная точка M(x,y):\\n',float(sols[a]),',',float(sols[b]))"
   ]
  },
  {
   "cell_type": "markdown",
   "metadata": {},
   "source": [
    "## Задание 5.4"
   ]
  },
  {
   "cell_type": "code",
   "execution_count": 24,
   "metadata": {},
   "outputs": [
    {
     "name": "stdout",
     "output_type": "stream",
     "text": [
      "(1, 1, 1, -4)\n"
     ]
    }
   ],
   "source": [
    "from sympy import *\n",
    "#a,b,c,w=symbols('a b c w')\n",
    "a,b,c,w=symbols('a b c w')\n",
    "\n",
    "f = 2*(a*b + a*c + b*c)\n",
    "#print('Целевая функция для аргументов a и b :\\n f = ', g)\n",
    "#q = a*b*c\n",
    "#print('Функция ограничений: ', q,'= 1')\n",
    "L = 2*(a*b + a*c + b*c) + w*(a*b*c - 1)\n",
    "L_a = L.diff(a)\n",
    "L_b = L.diff(b)\n",
    "L_c = L.diff(c)\n",
    "L_w = L.diff(w)\n",
    "#print(solve([L_a, L_b, L_c, L_w], a, b, c, w)[0])\n",
    "print(solve([L_a, L_b, L_c, L_w], a, b, c, w)[0])"
   ]
  },
  {
   "cell_type": "markdown",
   "metadata": {},
   "source": [
    "# Юнит 6"
   ]
  },
  {
   "cell_type": "markdown",
   "metadata": {},
   "source": [
    "## Задание 6.5"
   ]
  },
  {
   "cell_type": "code",
   "execution_count": 5,
   "metadata": {},
   "outputs": [
    {
     "data": {
      "text/latex": [
       "$\\displaystyle 2 a + 4 b - 10$"
      ],
      "text/plain": [
       "2*a + 4*b - 10"
      ]
     },
     "metadata": {},
     "output_type": "display_data"
    },
    {
     "data": {
      "text/latex": [
       "$\\displaystyle 4 a + 8 b - 20$"
      ],
      "text/plain": [
       "4*a + 8*b - 20"
      ]
     },
     "metadata": {},
     "output_type": "display_data"
    }
   ],
   "source": [
    "from sympy import *\n",
    "a,b = symbols(\"a, b\")\n",
    "f = (5 - a - 2*b)**2\n",
    "df_da = f.diff(a)\n",
    "df_db = f.diff(b)\n",
    "display(df_da)\n",
    "display(df_db)"
   ]
  },
  {
   "cell_type": "code",
   "execution_count": 11,
   "metadata": {},
   "outputs": [
    {
     "data": {
      "text/plain": [
       "{a: 5 - 2*b}"
      ]
     },
     "execution_count": 11,
     "metadata": {},
     "output_type": "execute_result"
    }
   ],
   "source": [
    "solve([df_da, df_db], [a, b])"
   ]
  },
  {
   "cell_type": "markdown",
   "metadata": {},
   "source": [
    "## Задание 6.6"
   ]
  },
  {
   "cell_type": "code",
   "execution_count": 14,
   "metadata": {},
   "outputs": [
    {
     "data": {
      "text/latex": [
       "$\\displaystyle 6.0 w_{0} + 18.0 w_{1} - 18.2$"
      ],
      "text/plain": [
       "6.0*w0 + 18.0*w1 - 18.2"
      ]
     },
     "metadata": {},
     "output_type": "display_data"
    },
    {
     "data": {
      "text/latex": [
       "$\\displaystyle 18.0 w_{0} + 70.0 w_{1} - 62.6$"
      ],
      "text/plain": [
       "18.0*w0 + 70.0*w1 - 62.6"
      ]
     },
     "metadata": {},
     "output_type": "display_data"
    },
    {
     "data": {
      "text/plain": [
       "{w0: 1.53333333333333, w1: 0.500000000000000}"
      ]
     },
     "execution_count": 14,
     "metadata": {},
     "output_type": "execute_result"
    }
   ],
   "source": [
    "from sympy import *\n",
    "w0, w1 = symbols(\"w0, w1\")\n",
    "L = (2.1 - w0 - w1)**2 + (2.9 - w0 - 3*w1)**2 + (4.1 - w0 - 5*w1)**2\n",
    "\n",
    "dL_dw0 = L.diff(w0)\n",
    "dL_dw1 = L.diff(w1)\n",
    "display(dL_dw0)\n",
    "display(dL_dw1)\n",
    "solve([dL_dw0, dL_dw1], [w0, w1])"
   ]
  },
  {
   "cell_type": "markdown",
   "metadata": {},
   "source": [
    "## Задание 6.7"
   ]
  },
  {
   "cell_type": "code",
   "execution_count": 1,
   "metadata": {},
   "outputs": [
    {
     "data": {
      "text/plain": [
       "array([-0.85714286,  0.        ,  0.07142857, -0.21428571,  0.21428571,\n",
       "        0.        ,  0.64285714,  1.42857143])"
      ]
     },
     "execution_count": 1,
     "metadata": {},
     "output_type": "execute_result"
    }
   ],
   "source": [
    "import numpy as np\n",
    "\n",
    "f = np.array([8, 2, 8, 3, 5, 6, 5, 15], dtype=float)\n",
    " \n",
    "np.gradient(f,7)"
   ]
  },
  {
   "cell_type": "markdown",
   "metadata": {},
   "source": [
    "# Юнит 7"
   ]
  },
  {
   "cell_type": "markdown",
   "metadata": {},
   "source": [
    "## Задание 7.1"
   ]
  },
  {
   "cell_type": "code",
   "execution_count": 2,
   "metadata": {},
   "outputs": [
    {
     "data": {
      "text/latex": [
       "$\\displaystyle 4 x - 4 z + 4$"
      ],
      "text/plain": [
       "4*x - 4*z + 4"
      ]
     },
     "metadata": {},
     "output_type": "display_data"
    },
    {
     "data": {
      "text/latex": [
       "$\\displaystyle 8 y - 8 z + 8$"
      ],
      "text/plain": [
       "8*y - 8*z + 8"
      ]
     },
     "metadata": {},
     "output_type": "display_data"
    },
    {
     "data": {
      "text/latex": [
       "$\\displaystyle - 4 x - 8 y + 18 z - 20$"
      ],
      "text/plain": [
       "-4*x - 8*y + 18*z - 20"
      ]
     },
     "metadata": {},
     "output_type": "display_data"
    }
   ],
   "source": [
    "from sympy import *\n",
    "x, y, z = symbols(\"x, y, z\")\n",
    "f = 2*x**2 - 4*x*z + 4*y**2 - 8*y*z + 9*z**2 + 4*x + 8*y - 20*z\n",
    "\n",
    "df_dx = f.diff(x)\n",
    "df_dy = f.diff(y)\n",
    "df_dz = f.diff(z)\n",
    "\n",
    "display(df_dx)\n",
    "display(df_dy)\n",
    "display(df_dz)"
   ]
  },
  {
   "cell_type": "code",
   "execution_count": null,
   "metadata": {},
   "outputs": [],
   "source": [
    "f_grad = (4, 8, -20)"
   ]
  }
 ],
 "metadata": {
  "kernelspec": {
   "display_name": "Python 3",
   "language": "python",
   "name": "python3"
  },
  "language_info": {
   "codemirror_mode": {
    "name": "ipython",
    "version": 3
   },
   "file_extension": ".py",
   "mimetype": "text/x-python",
   "name": "python",
   "nbconvert_exporter": "python",
   "pygments_lexer": "ipython3",
   "version": "3.11.5"
  },
  "orig_nbformat": 4
 },
 "nbformat": 4,
 "nbformat_minor": 2
}
