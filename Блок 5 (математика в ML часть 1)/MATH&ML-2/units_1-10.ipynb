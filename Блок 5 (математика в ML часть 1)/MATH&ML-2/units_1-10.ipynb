{
 "cells": [
  {
   "attachments": {},
   "cell_type": "markdown",
   "metadata": {},
   "source": [
    "# Юнит 1"
   ]
  },
  {
   "cell_type": "code",
   "execution_count": 2,
   "metadata": {},
   "outputs": [
    {
     "data": {
      "text/plain": [
       "2"
      ]
     },
     "execution_count": 2,
     "metadata": {},
     "output_type": "execute_result"
    }
   ],
   "source": [
    "import numpy as np\n",
    "\n",
    "\n",
    "A = np.array([[2,10,-2], [3, 2, -2], [8, 14, -6]])\n",
    "\n",
    "np.linalg.matrix_rank(A.T)"
   ]
  },
  {
   "cell_type": "code",
   "execution_count": 4,
   "metadata": {},
   "outputs": [
    {
     "data": {
      "text/plain": [
       "1"
      ]
     },
     "execution_count": 4,
     "metadata": {},
     "output_type": "execute_result"
    }
   ],
   "source": [
    "np.linalg.matrix_rank([[5, 1], [10,2]])"
   ]
  },
  {
   "attachments": {},
   "cell_type": "markdown",
   "metadata": {},
   "source": [
    "## Юнит 2"
   ]
  },
  {
   "attachments": {},
   "cell_type": "markdown",
   "metadata": {},
   "source": [
    "## Задание 2.9"
   ]
  },
  {
   "cell_type": "code",
   "execution_count": 8,
   "metadata": {},
   "outputs": [
    {
     "name": "stdout",
     "output_type": "stream",
     "text": [
      "[[ 5]\n",
      " [-1]\n",
      " [ 0]]\n"
     ]
    }
   ],
   "source": [
    "A = np.array([[1, -5], [2, 1], [1, 1]])\n",
    "b = np.reshape(np.array([1,2,2]), (3,1))\n",
    "w = np.reshape(np.array([1,1]), (2,1))\n",
    "\n",
    "#print(A, b, w)\n",
    "\n",
    "b_ = A@w\n",
    "\n",
    "e = b - b_\n",
    "print(e)"
   ]
  },
  {
   "attachments": {},
   "cell_type": "markdown",
   "metadata": {},
   "source": [
    "# Задание 2.11"
   ]
  },
  {
   "cell_type": "code",
   "execution_count": 12,
   "metadata": {},
   "outputs": [],
   "source": [
    "A = np.array([[1, 2], [-3, 1], [1, 2], [1, -1]])\n",
    "b = np.reshape(np.array([1,4,5,0]), (4,1))"
   ]
  },
  {
   "cell_type": "code",
   "execution_count": 13,
   "metadata": {},
   "outputs": [
    {
     "name": "stdout",
     "output_type": "stream",
     "text": [
      "[[12  0]\n",
      " [ 0 10]]\n"
     ]
    }
   ],
   "source": [
    "G = A.T@A\n",
    "print(G)"
   ]
  },
  {
   "cell_type": "code",
   "execution_count": 14,
   "metadata": {},
   "outputs": [
    {
     "name": "stdout",
     "output_type": "stream",
     "text": [
      "[[0.08333333 0.        ]\n",
      " [0.         0.1       ]]\n"
     ]
    }
   ],
   "source": [
    "G_inv = np.linalg.inv(G)\n",
    "print(G_inv)"
   ]
  },
  {
   "cell_type": "code",
   "execution_count": 15,
   "metadata": {},
   "outputs": [
    {
     "name": "stdout",
     "output_type": "stream",
     "text": [
      "[[-6]\n",
      " [16]]\n"
     ]
    }
   ],
   "source": [
    "b_ = A.T@b\n",
    "print(b_)"
   ]
  },
  {
   "cell_type": "code",
   "execution_count": 17,
   "metadata": {},
   "outputs": [
    {
     "name": "stdout",
     "output_type": "stream",
     "text": [
      "[[-0.5]\n",
      " [ 1.6]]\n"
     ]
    }
   ],
   "source": [
    "w_ = G_inv@A.T@b\n",
    "print(w_)"
   ]
  },
  {
   "attachments": {},
   "cell_type": "markdown",
   "metadata": {},
   "source": [
    "# Юнит 4"
   ]
  },
  {
   "attachments": {},
   "cell_type": "markdown",
   "metadata": {},
   "source": [
    "## Задание 4.7"
   ]
  },
  {
   "cell_type": "code",
   "execution_count": 13,
   "metadata": {},
   "outputs": [
    {
     "name": "stdout",
     "output_type": "stream",
     "text": [
      "[[1.         0.05241424]\n",
      " [0.05241424 1.        ]]\n",
      "0.954923980420481\n"
     ]
    }
   ],
   "source": [
    "v = np.array([5, 1, 2])\n",
    "u = np.array([4, 2, 8])\n",
    "\n",
    "A = np.array([v,u]).T\n",
    "print(np.corrcoef(v, u))"
   ]
  },
  {
   "attachments": {},
   "cell_type": "markdown",
   "metadata": {},
   "source": [
    "## Задание 4.8"
   ]
  },
  {
   "cell_type": "code",
   "execution_count": 27,
   "metadata": {},
   "outputs": [
    {
     "name": "stdout",
     "output_type": "stream",
     "text": [
      "[[ 5.1  1.8  2.1 10.3 12.1 12.6]\n",
      " [10.2  3.7  4.1 20.5 24.2 24.1]\n",
      " [ 2.5  0.9  1.1  5.1  6.1  6.3]]\n",
      "[[1.         0.99925473 0.99983661]\n",
      " [0.99925473 1.         0.99906626]\n",
      " [0.99983661 0.99906626 1.        ]]\n",
      "3\n",
      "0.0000005\n"
     ]
    }
   ],
   "source": [
    "x1 = np.array([5.1, 1.8, 2.1, 10.3, 12.1, 12.6])\n",
    "x2 = np.array([10.2, 3.7, 4.1, 20.5, 24.2, 24.1]) \n",
    "x3 = np.array([2.5, 0.9, 1.1, 5.1, 6.1, 6.3]) \n",
    "A = np.array([x1, x2, x3])\n",
    "print(A)\n",
    "\n",
    "C = np.corrcoef(A)\n",
    "print(C)\n",
    "\n",
    "print(np.linalg.matrix_rank(C))\n",
    "\n",
    "print('{:.7f}'.format(np.linalg.det(C)))"
   ]
  },
  {
   "attachments": {},
   "cell_type": "markdown",
   "metadata": {},
   "source": [
    "# Юнит 6"
   ]
  },
  {
   "attachments": {},
   "cell_type": "markdown",
   "metadata": {},
   "source": [
    "## Задание 6.1"
   ]
  },
  {
   "cell_type": "code",
   "execution_count": 7,
   "metadata": {},
   "outputs": [
    {
     "name": "stdout",
     "output_type": "stream",
     "text": [
      "[29.8]\n"
     ]
    }
   ],
   "source": [
    "x_1 = 1\n",
    "x_2 = 4\n",
    "\n",
    "#x_new = np.array([[1], [4]])\n",
    "\n",
    "\n",
    "w_hat = np.array(np.reshape([10.4, 8, 0.5, 3, 0.4, 0], (6,1)))\n",
    "\n",
    "A = np.array([1, x_1, x_2, x_1**2, x_2**2, x_1*x_2])\n",
    "\n",
    "y_pred = A@w_hat\n",
    " \n",
    "print(y_pred)"
   ]
  },
  {
   "attachments": {},
   "cell_type": "markdown",
   "metadata": {},
   "source": [
    "## Задание 6.4"
   ]
  },
  {
   "cell_type": "code",
   "execution_count": 11,
   "metadata": {},
   "outputs": [
    {
     "name": "stdout",
     "output_type": "stream",
     "text": [
      "[ 0.11446013  2.46095638 -0.01608801]\n"
     ]
    }
   ],
   "source": [
    "#y = np.array(np.reshape([3, 7, -5, 21], (4,1)))\n",
    "y = np.array([3, 7, -5, 21])\n",
    "\n",
    "\n",
    "x = np.array([1, 3, -2, 9])\n",
    "\n",
    "A = np.array([[1, x[0], x[0]**2], [1, x[1], x[1]**2], [1, x[2], x[2]**2], [1, x[3], x[3]**2]])\n",
    "\n",
    "w_hat = np.linalg.inv(A.T@A)@A.T@y\n",
    "\n",
    "print(w_hat)"
   ]
  },
  {
   "attachments": {},
   "cell_type": "markdown",
   "metadata": {},
   "source": [
    "# Юнит 7"
   ]
  },
  {
   "attachments": {},
   "cell_type": "markdown",
   "metadata": {},
   "source": [
    "## Задание 7.4"
   ]
  },
  {
   "cell_type": "code",
   "execution_count": 13,
   "metadata": {},
   "outputs": [
    {
     "name": "stdout",
     "output_type": "stream",
     "text": [
      "[-0.08523045 -1.70784126  1.91141216  0.7293992 ]\n"
     ]
    }
   ],
   "source": [
    "x_1 = np.array([5, 9, 4, 3, 5])\n",
    "x_2 = np.array([15, 18, 18, 19, 19])\n",
    "x_3 = np.array([7, 6, 7, 7, 7])\n",
    "y = np.array([24, 22, 35, 33, 36])\n",
    "alpha = 1\n",
    "\n",
    "X = np.array([[1, 1, 1, 1, 1], x_1, x_2, x_3]).T\n",
    "\n",
    "w_hat = np.linalg.inv(X.T@X + alpha*np.eye(4))@X.T@y\n",
    "\n",
    "print(w_hat)"
   ]
  }
 ],
 "metadata": {
  "kernelspec": {
   "display_name": "Python 3",
   "language": "python",
   "name": "python3"
  },
  "language_info": {
   "codemirror_mode": {
    "name": "ipython",
    "version": 3
   },
   "file_extension": ".py",
   "mimetype": "text/x-python",
   "name": "python",
   "nbconvert_exporter": "python",
   "pygments_lexer": "ipython3",
   "version": "3.9.10"
  },
  "orig_nbformat": 4
 },
 "nbformat": 4,
 "nbformat_minor": 2
}
