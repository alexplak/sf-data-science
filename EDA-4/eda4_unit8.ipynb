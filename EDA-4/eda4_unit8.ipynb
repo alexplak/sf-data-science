{
 "cells": [
  {
   "cell_type": "markdown",
   "metadata": {},
   "source": [
    "# Загрузка библиотек"
   ]
  },
  {
   "cell_type": "code",
   "execution_count": 25,
   "metadata": {},
   "outputs": [],
   "source": [
    "import pandas as pd\n",
    "import scipy.stats as ss"
   ]
  },
  {
   "cell_type": "code",
   "execution_count": 2,
   "metadata": {},
   "outputs": [],
   "source": [
    "petersburg = [0.0974, 0.1352, 0.0817, 0.1016, 0.0968, 0.1064, 0.105]\n",
    "magadan = [0.1033, 0.0915, 0.0781, 0.0685, 0.0677, 0.0697, 0.0764, 0.0689]\n",
    "tvarminne = [0.0703, 0.1026, 0.0956, 0.0973, 0.1039, 0.1045]"
   ]
  },
  {
   "cell_type": "markdown",
   "metadata": {},
   "source": [
    "## Задание 1\n",
    "Объединение массивов в DataFrame"
   ]
  },
  {
   "cell_type": "code",
   "execution_count": 28,
   "metadata": {},
   "outputs": [
    {
     "data": {
      "text/html": [
       "<div>\n",
       "<style scoped>\n",
       "    .dataframe tbody tr th:only-of-type {\n",
       "        vertical-align: middle;\n",
       "    }\n",
       "\n",
       "    .dataframe tbody tr th {\n",
       "        vertical-align: top;\n",
       "    }\n",
       "\n",
       "    .dataframe thead th {\n",
       "        text-align: right;\n",
       "    }\n",
       "</style>\n",
       "<table border=\"1\" class=\"dataframe\">\n",
       "  <thead>\n",
       "    <tr style=\"text-align: right;\">\n",
       "      <th></th>\n",
       "      <th>Петербург</th>\n",
       "      <th>Магадан</th>\n",
       "    </tr>\n",
       "  </thead>\n",
       "  <tbody>\n",
       "    <tr>\n",
       "      <th>0</th>\n",
       "      <td>0.0974</td>\n",
       "      <td>0.1033</td>\n",
       "    </tr>\n",
       "    <tr>\n",
       "      <th>1</th>\n",
       "      <td>0.1352</td>\n",
       "      <td>0.0915</td>\n",
       "    </tr>\n",
       "    <tr>\n",
       "      <th>2</th>\n",
       "      <td>0.0817</td>\n",
       "      <td>0.0781</td>\n",
       "    </tr>\n",
       "    <tr>\n",
       "      <th>3</th>\n",
       "      <td>0.1016</td>\n",
       "      <td>0.0685</td>\n",
       "    </tr>\n",
       "    <tr>\n",
       "      <th>4</th>\n",
       "      <td>0.0968</td>\n",
       "      <td>0.0677</td>\n",
       "    </tr>\n",
       "    <tr>\n",
       "      <th>5</th>\n",
       "      <td>0.1064</td>\n",
       "      <td>0.0697</td>\n",
       "    </tr>\n",
       "    <tr>\n",
       "      <th>6</th>\n",
       "      <td>0.1050</td>\n",
       "      <td>0.0764</td>\n",
       "    </tr>\n",
       "    <tr>\n",
       "      <th>7</th>\n",
       "      <td>NaN</td>\n",
       "      <td>0.0689</td>\n",
       "    </tr>\n",
       "  </tbody>\n",
       "</table>\n",
       "</div>"
      ],
      "text/plain": [
       "   Петербург  Магадан\n",
       "0     0.0974   0.1033\n",
       "1     0.1352   0.0915\n",
       "2     0.0817   0.0781\n",
       "3     0.1016   0.0685\n",
       "4     0.0968   0.0677\n",
       "5     0.1064   0.0697\n",
       "6     0.1050   0.0764\n",
       "7        NaN   0.0689"
      ]
     },
     "execution_count": 28,
     "metadata": {},
     "output_type": "execute_result"
    }
   ],
   "source": [
    "mussels_df = pd.DataFrame.from_dict({'Петербург': petersburg, 'Магадан': magadan}, orient='index')\n",
    "mussels_df = mussels_df.transpose()\n",
    "\n",
    "mussels_df"
   ]
  },
  {
   "cell_type": "markdown",
   "metadata": {},
   "source": [
    "## Задание 2\n",
    "Обоснование выбора теста на корреляцию"
   ]
  },
  {
   "cell_type": "markdown",
   "metadata": {},
   "source": [
    "### Проверка на нормальность\n",
    "Для обоснованного выбора теста на корелляцию, необходимо проверить являются ли данные данные часть нормально распределнной совокупности"
   ]
  },
  {
   "cell_type": "code",
   "execution_count": 29,
   "metadata": {},
   "outputs": [
    {
     "name": "stdout",
     "output_type": "stream",
     "text": [
      "p=1.0\n",
      "Данные распределены нормально\n"
     ]
    }
   ],
   "source": [
    "H0 = 'Данные распределены нормально'\n",
    "Ha = 'Данные не распределены нормально (мы отвергаем H0)'\n",
    "alpha = 0.05\n",
    "\n",
    "_, p = ss.shapiro(mussels_df)\n",
    "print(f'p={p}')\n",
    "\n",
    "if p > alpha:\n",
    "\tprint(H0)\n",
    "else:\n",
    "    print(Ha)"
   ]
  },
  {
   "cell_type": "markdown",
   "metadata": {},
   "source": [
    "### Вывод\n",
    "Данные распределены нормально, признаки имеют количественный, непрерывный тип, поэтому для исследования выборок на корреляцию можно применять параметрические тесты в частности метод Пирсона."
   ]
  },
  {
   "cell_type": "markdown",
   "metadata": {},
   "source": [
    "## Задание 3\n",
    "Тест на корреляцию"
   ]
  },
  {
   "cell_type": "code",
   "execution_count": 32,
   "metadata": {},
   "outputs": [
    {
     "name": "stdout",
     "output_type": "stream",
     "text": [
      "0.5394705530383969 > 0.05. Нулевая гипотеза об отсутсвии зависимости между переменными не отвергнута.\n"
     ]
    }
   ],
   "source": [
    "#Заполенение пропусков в данных для того, что бы можно было воспользоваться тестом на коллинеарность\n",
    "values = {\n",
    "    'Петербург': mussels_df['Петербург'].mean(),\n",
    "    'Магадан': mussels_df['Магадан'].mean()\n",
    "}\n",
    "mussels_df = mussels_df.fillna(values)\n",
    "\n",
    "\n",
    "#Проверка на зависимость\n",
    "corr, p = ss.pearsonr(mussels_df['Петербург'], mussels_df['Магадан'])\n",
    "\n",
    "if p>alpha:\n",
    "    print(f\"{p} > {alpha}. Нулевая гипотеза об отсутсвии зависимости между переменными не отвергнута.\")\n",
    "else:\n",
    "    print(f\"{p} <= {alpha}. Нулевую гипотезу об отсутсвии зависимости между переменными отвергнута.\")"
   ]
  },
  {
   "cell_type": "markdown",
   "metadata": {},
   "source": [
    "## Задание 4\n",
    "Вывод по гипотезе"
   ]
  },
  {
   "cell_type": "markdown",
   "metadata": {},
   "source": [
    "В результате теста на корелляцию было получено значение p-value 0.54. Это значительно превышает заданный уровень значимости 0.05 следовательно нулевая гипотеза об отсуствии взаимосвязи между размерами мидий из разных городов остается в силе."
   ]
  },
  {
   "cell_type": "markdown",
   "metadata": {},
   "source": [
    "## Задание 5\n",
    "Обснование и выбор теста на сравнение выборок"
   ]
  },
  {
   "cell_type": "markdown",
   "metadata": {},
   "source": [
    "Независимой переменной является город происхождения мидий. Это категориальная переменная. Зависимой переменной является размер мидии, это количественная переменная. Группы рассматриваемых мидий происходят из независимых совокупностией. Количество замеров в выборках менее 30,  следовательно для сравнения средних параметров можно выбрать независимый Т-тест."
   ]
  },
  {
   "cell_type": "markdown",
   "metadata": {},
   "source": [
    "## Задание 6\n",
    "Тест на сравнение выборок"
   ]
  },
  {
   "cell_type": "code",
   "execution_count": 35,
   "metadata": {},
   "outputs": [
    {
     "name": "stdout",
     "output_type": "stream",
     "text": [
      "p=0.0029302645160802256\n",
      "Есть значимая разница между размерами мидий из разных городов.\n"
     ]
    }
   ],
   "source": [
    "H0 = 'Нет значимой разницы между размерами мидий из разных городов.'\n",
    "Ha = 'Есть значимая разница между размерами мидий из разных городов.'\n",
    "\n",
    "_, p = ss.ttest_ind(mussels_df['Петербург'], mussels_df['Магадан'], equal_var=True)\n",
    "print(f'p={p}')\n",
    "\n",
    "if p > alpha:\n",
    "\tprint(H0)\n",
    "else:\n",
    "    print(Ha)"
   ]
  },
  {
   "cell_type": "markdown",
   "metadata": {},
   "source": [
    "## Задание 7\n",
    "Вывод по гипотезе"
   ]
  },
  {
   "cell_type": "markdown",
   "metadata": {},
   "source": [
    "Занчение p-value меньше значения статистической значимости, следовательно нулевая гипотеза опровергнута, а следовательно принимается альтернативная гипотеза, говорящая о том, что средний размер мидий отличается в разных городах."
   ]
  }
 ],
 "metadata": {
  "kernelspec": {
   "display_name": "Python 3.9.10 64-bit",
   "language": "python",
   "name": "python3"
  },
  "language_info": {
   "codemirror_mode": {
    "name": "ipython",
    "version": 3
   },
   "file_extension": ".py",
   "mimetype": "text/x-python",
   "name": "python",
   "nbconvert_exporter": "python",
   "pygments_lexer": "ipython3",
   "version": "3.9.10"
  },
  "orig_nbformat": 4,
  "vscode": {
   "interpreter": {
    "hash": "397704579725e15f5c7cb49fe5f0341eb7531c82d19f2c29d197e8b64ab5776b"
   }
  }
 },
 "nbformat": 4,
 "nbformat_minor": 2
}
