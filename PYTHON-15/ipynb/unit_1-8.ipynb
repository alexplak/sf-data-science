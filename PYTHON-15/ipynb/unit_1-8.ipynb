{
 "cells": [
  {
   "cell_type": "code",
   "execution_count": 1,
   "metadata": {},
   "outputs": [],
   "source": [
    "import numpy as np"
   ]
  },
  {
   "cell_type": "markdown",
   "metadata": {},
   "source": [
    "# Юнит 4"
   ]
  },
  {
   "cell_type": "code",
   "execution_count": 80,
   "metadata": {},
   "outputs": [
    {
     "name": "stdout",
     "output_type": "stream",
     "text": [
      "[1000000, 400000]\n",
      "700000.0\n"
     ]
    }
   ],
   "source": [
    "class DepartmentReport():\n",
    "    def add_revenue(self, amount):\n",
    "        \"\"\"\n",
    "        Метод для добавления выручки отдела в список revenues.\n",
    "        Если атрибута revenues ещё не существует, метод должен создавать пустой список перед добавлением выручки.\n",
    "        \"\"\"\n",
    "        if not hasattr(self, 'revenues'):  \n",
    "            self.revenues = []  \n",
    "        self.revenues.append(amount) \n",
    "    \n",
    "    def average_revenue(self):\n",
    "        \"\"\"\n",
    "        Метод возвращает среднюю выручку по отделам.\n",
    "        \"\"\"\n",
    "        return round(np.mean(self.revenues), 0)\n",
    "\n",
    "\n",
    "report = DepartmentReport()\n",
    "report.add_revenue(1_000_000)\n",
    "report.add_revenue(400_000)\n",
    "print(report.revenues)\n",
    "# => [1000000, 400000]\n",
    "print(report.average_revenue())\n",
    "# => 700000.0"
   ]
  },
  {
   "cell_type": "code",
   "execution_count": 11,
   "metadata": {},
   "outputs": [
    {
     "name": "stdout",
     "output_type": "stream",
     "text": [
      "Average department revenue for Danon: 700000\n"
     ]
    }
   ],
   "source": [
    "class DepartmentReport():\n",
    "    def __init__(self, company):\n",
    "        \"\"\"\n",
    "        Метод инициализации класса. \n",
    "        Создаёт атрибуты revenues и company\n",
    "        \"\"\"\n",
    "        self.company = company\n",
    "        self.revenues = []\n",
    "\n",
    "\n",
    "    def add_revenue(self, amount):\n",
    "        \"\"\"\n",
    "        Метод для добавления выручки отдела в список revenues.\n",
    "        Если атрибута revenues ещё не существует, метод должен создавать пустой список перед добавлением выручки.\n",
    "        \"\"\"\n",
    "        self.revenues.append(amount) \n",
    "    \n",
    "    def average_revenue(self):\n",
    "        \"\"\"\n",
    "        Метод возвращает среднюю выручку по отделам.\n",
    "        \"\"\"\n",
    "        average=int(round(np.mean(self.revenues), 0))\n",
    "        #return f\"Average department revenue for {self.company}: {average}\"\n",
    "        return \"Average department revenue for {0}: {1}\".format(self.company, average)\n",
    "\n",
    "report = DepartmentReport(\"Danon\")\n",
    "report.add_revenue(1_000_000)\n",
    "report.add_revenue(400_000)\n",
    "\n",
    "print(report.average_revenue())\n",
    "# => Average department revenue for Danon: 700000"
   ]
  },
  {
   "cell_type": "markdown",
   "metadata": {},
   "source": [
    "# Юнит 5"
   ]
  },
  {
   "cell_type": "code",
   "execution_count": 15,
   "metadata": {},
   "outputs": [
    {
     "name": "stdout",
     "output_type": "stream",
     "text": [
      "19700\n"
     ]
    }
   ],
   "source": [
    "class User():\n",
    "    def __init__(self, email, password, balance):\n",
    "        self.email = email\n",
    "        self.password = password\n",
    "        self.balance = balance\n",
    "\n",
    "    def login(self, email, password):\n",
    "        if (email == self.email and password == self.password):\n",
    "            return True\n",
    "        else:\n",
    "            return False\n",
    "\n",
    "    def update_balance(self, amount):\n",
    "        self.balance += amount\n",
    "\n",
    "user = User(\"gosha@roskino.org\", \"qwerty\", 20_000)\n",
    "user.login(\"gosha@roskino.org\", \"qwerty123\")\n",
    "# => False\n",
    "user.login(\"gosha@roskino.org\", \"qwerty\")\n",
    "# => True\n",
    "user.update_balance(200)\n",
    "user.update_balance(-500)\n",
    "print(user.balance)\n",
    "# => 19700"
   ]
  },
  {
   "cell_type": "code",
   "execution_count": 19,
   "metadata": {},
   "outputs": [
    {
     "data": {
      "text/plain": [
       "5"
      ]
     },
     "execution_count": 19,
     "metadata": {},
     "output_type": "execute_result"
    }
   ],
   "source": [
    "class IntDataFrame():\n",
    "    def __init__(self, list):\n",
    "        self.list = list\n",
    "        self.conv_to_int()\n",
    "\n",
    "    def conv_to_int(self):\n",
    "        self.list = [int(value) for value in self.list]\n",
    "\n",
    "    def count(self):\n",
    "        return sum(True for i in self.list if i != 0)\n",
    "        #return sum(map(lambda x: x!= 0, self.list))\n",
    "\n",
    "    def unique(self):\n",
    "        return len(set(self.list))\n",
    "\n",
    "\n",
    "df = IntDataFrame([4.7, 4, 3, 0, 2.4, 0.3, 4])\n",
    "\n",
    "df.count()\n",
    "# => 5\n",
    "#df.unique()\n",
    "# => 4\n",
    "    \n",
    "\n"
   ]
  },
  {
   "cell_type": "code",
   "execution_count": 26,
   "metadata": {},
   "outputs": [
    {
     "data": {
      "text/plain": [
       "'System started'"
      ]
     },
     "execution_count": 26,
     "metadata": {},
     "output_type": "execute_result"
    }
   ],
   "source": [
    "class OwnLogger():\n",
    "    def __init__(self):\n",
    "        self.events = []\n",
    "    \n",
    "    def log(self, message, level):\n",
    "        self.events.append([message, level])\n",
    "    \n",
    "    def show_last(self, level='all'):\n",
    "        if level == 'all': \n",
    "            return self.events[-1][0]\n",
    "        else:\n",
    "            for event in list(reversed(self.events)):\n",
    "                if event[1] == level:\n",
    "                    return event[0]\n",
    "\n",
    "            return None\n",
    "\n",
    "logger = OwnLogger()\n",
    "logger.log(\"System started\", \"info\")\n",
    "logger.show_last(\"info\")"
   ]
  },
  {
   "cell_type": "markdown",
   "metadata": {},
   "source": [
    "# Юнит 6"
   ]
  },
  {
   "cell_type": "code",
   "execution_count": 29,
   "metadata": {},
   "outputs": [
    {
     "data": {
      "text/plain": [
       "'Bark!'"
      ]
     },
     "execution_count": 29,
     "metadata": {},
     "output_type": "execute_result"
    }
   ],
   "source": [
    "class Dog():\n",
    "    def bark(self):\n",
    "        return 'Bark!'\n",
    "        \n",
    "    def give_paw(self):\n",
    "        return 'Paw'\n",
    "\n",
    "drujok = Dog()\n",
    "\n",
    "drujok.bark()"
   ]
  },
  {
   "cell_type": "markdown",
   "metadata": {},
   "source": [
    "# Юнит 7"
   ]
  },
  {
   "cell_type": "code",
   "execution_count": null,
   "metadata": {},
   "outputs": [],
   "source": [
    "import os"
   ]
  },
  {
   "cell_type": "code",
   "execution_count": 38,
   "metadata": {},
   "outputs": [
    {
     "name": "stdout",
     "output_type": "stream",
     "text": [
      "['Иванов', 'О.', '4']\n",
      "['Петров', 'И.', '3']\n",
      "['Дмитриев', 'Н.', '2']\n",
      "['Смирнова', 'О.', '4']\n",
      "['Керченских', 'В.', '5']\n",
      "['Котов', 'Д.', '2']\n",
      "['Бирюкова', 'Н.', '1']\n",
      "['Данилов', 'П.', '3']\n",
      "['Аранских', 'В.', '5']\n",
      "['Лемонов', 'Ю.', '2']\n",
      "['Олегова', 'К.', '4']\n",
      "[]\n",
      "4\n"
     ]
    }
   ],
   "source": [
    "mark_list = []\n",
    "cnt = 0\n",
    "\n",
    "with open ('../data/task_6.7.txt', 'rt') as f:\n",
    "    for line in f:\n",
    "        mark = int(line.strip('\\n')[-1])\n",
    "        #print(line.split())\n",
    "        #name = line.strip('\\n')[:-2]\n",
    "        #mark_list.append([name, mark])\n",
    "        if mark < 3:\n",
    "            cnt += 1\n",
    "\n",
    "print(mark_list)\n",
    "print(cnt)"
   ]
  },
  {
   "cell_type": "code",
   "execution_count": 40,
   "metadata": {},
   "outputs": [],
   "source": [
    "with open ('../data/task_6.7.txt', 'rt') as f:\n",
    "    tmp = f.readlines()\n",
    "    tmp[-1] = tmp[-1]+'\\n'\n",
    "\n",
    "\n",
    "with open ('../data/task_6.7_output.txt', 'wt') as f:\n",
    "    f.writelines(list(reversed(tmp)))\n",
    "\n"
   ]
  },
  {
   "cell_type": "code",
   "execution_count": 42,
   "metadata": {},
   "outputs": [],
   "source": [
    "with open(\"../data/task_6.7.txt\", \"r\") as input_file:\n",
    "    with open(\"../data/task_6.7_output2.txt\", \"w\") as output_file:\n",
    "        for line in reversed(input_file.readlines()):\n",
    "            output_file.write(line)"
   ]
  },
  {
   "cell_type": "markdown",
   "metadata": {},
   "source": [
    "# Юнит 9"
   ]
  },
  {
   "cell_type": "code",
   "execution_count": 59,
   "metadata": {},
   "outputs": [
    {
     "name": "stdout",
     "output_type": "stream",
     "text": [
      "1 Сторона квадрата не может быть меньше нуля\n",
      "c: bbbbb\n"
     ]
    }
   ],
   "source": [
    "class NonPositiveDigitException(ValueError):\n",
    "    def __init__(self, message):\n",
    "        print(f'1 {message}')\n",
    "        super().__init__('bbbbb')\n",
    "        \n",
    "\n",
    "class Square():\n",
    "    def __init__(self, len):\n",
    "        try:\n",
    "            if len <=0:\n",
    "                raise NonPositiveDigitException('Сторона квадрата не может быть меньше нуля')\n",
    "            else:\n",
    "                self.len = len\n",
    "        except NonPositiveDigitException as c:\n",
    "           print(f'c: {c}')\n",
    "        #except ValueError as e:\n",
    "         #   print(f'e: {e}')\n",
    "\n",
    "\n",
    "sq1 =Square(0)"
   ]
  }
 ],
 "metadata": {
  "kernelspec": {
   "display_name": "Python 3.9.10 64-bit",
   "language": "python",
   "name": "python3"
  },
  "language_info": {
   "codemirror_mode": {
    "name": "ipython",
    "version": 3
   },
   "file_extension": ".py",
   "mimetype": "text/x-python",
   "name": "python",
   "nbconvert_exporter": "python",
   "pygments_lexer": "ipython3",
   "version": "3.9.10"
  },
  "orig_nbformat": 4,
  "vscode": {
   "interpreter": {
    "hash": "397704579725e15f5c7cb49fe5f0341eb7531c82d19f2c29d197e8b64ab5776b"
   }
  }
 },
 "nbformat": 4,
 "nbformat_minor": 2
}
