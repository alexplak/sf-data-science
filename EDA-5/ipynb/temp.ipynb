{
 "cells": [
  {
   "cell_type": "code",
   "execution_count": null,
   "metadata": {},
   "outputs": [],
   "source": [
    "# Проверим распеределение конверсии на нормальность используя тест Шапиро-Уилка\n",
    "def norm_test_result(p, alpha, group_id):\n",
    "\tH0 = 'Данные распределены нормально'\n",
    "\tHa = 'Данные не распределены нормально'\n",
    "\t\n",
    "\tif p > alpha:\n",
    "\t\tprint(f'{H0} в группе {group_id}, p-value={p}')\n",
    "\telse:\n",
    "\t\tprint(f'{Ha} в группе {group_id}, p-value={p}')\n",
    "\n",
    "alpha = 0.05\n",
    "\n",
    "_, p01 = shapiro(updated_data_grouped02[updated_data_grouped02['group'] == 'A']['conversion'])\n",
    "norm_test_result(p=p01, alpha=alpha, group_id='A')\n",
    "\n",
    "_, p02 = shapiro(updated_data_grouped02[updated_data_grouped02['group'] == 'B']['conversion'])\n",
    "norm_test_result(p=p02, alpha=alpha, group_id='B')\n",
    "\n",
    "# Проверка гипотезы о равенстве конверсий\n",
    "_, p03 = ttest_ind(\n",
    "    a=updated_data_grouped02[updated_data_grouped02['group'] == 'A']['conversion'],\n",
    "    b=updated_data_grouped02[updated_data_grouped02['group'] == 'B']['conversion'], \n",
    "    alternative='greater'\n",
    ")\n",
    "\n",
    "if p03 > alpha:\n",
    "\tprint(f'Конверсия в группах одинаковая, p-value={p03}')\n",
    "else:\n",
    "\tprint(f'Конверсия в группе А больше чем в группе Б, p-value={p03}')"
   ]
  },
  {
   "cell_type": "markdown",
   "metadata": {},
   "source": [
    "Удалось выяснить что дневные конверсии для групп А и Б имеют нормальное распределение. Так же каждая выборка имеет размер меньше 30 значений (23 если быть точным). Поэтому, для сравнений средних значений по выборкам, можно использоввть независивый Т-тест.\n",
    "Независимый Т-тест не дал опровержения нулевой гипотизы, которая заключается в том что группы А и Б имеют равные конверсии.\n",
    "В задании 7.10 на сайте lms.skillfacroty.ru правильным ответом почему-то считается Z-тест. Это не совсем понятно т. к. в каждой группе менее 30 значений."
   ]
  }
 ],
 "metadata": {
  "kernelspec": {
   "display_name": "Python 3.9.10 64-bit",
   "language": "python",
   "name": "python3"
  },
  "language_info": {
   "name": "python",
   "version": "3.9.10"
  },
  "orig_nbformat": 4,
  "vscode": {
   "interpreter": {
    "hash": "397704579725e15f5c7cb49fe5f0341eb7531c82d19f2c29d197e8b64ab5776b"
   }
  }
 },
 "nbformat": 4,
 "nbformat_minor": 2
}
